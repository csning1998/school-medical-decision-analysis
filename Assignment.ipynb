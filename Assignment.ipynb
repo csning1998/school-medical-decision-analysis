{
  "cells": [
    {
      "cell_type": "markdown",
      "metadata": {
        "id": "G05khoYXUHXS"
      },
      "source": [
        "# Chapter 2. 試著利用機器學習進行分析\n",
        "\n",
        "這章要學習執行程式的流程，以便學習機器的基礎。"
      ]
    },
    {
      "cell_type": "markdown",
      "metadata": {},
      "source": [
        "## Section 1. Exploratory Data Analysis\n",
        "\n",
        "在開始建立各種模型之前，要先了解目前資料的狀況"
      ]
    },
    {
      "cell_type": "code",
      "execution_count": 1,
      "metadata": {},
      "outputs": [
        {
          "data": {
            "text/html": [
              "<div>\n",
              "<style scoped>\n",
              "    .dataframe tbody tr th:only-of-type {\n",
              "        vertical-align: middle;\n",
              "    }\n",
              "\n",
              "    .dataframe tbody tr th {\n",
              "        vertical-align: top;\n",
              "    }\n",
              "\n",
              "    .dataframe thead th {\n",
              "        text-align: right;\n",
              "    }\n",
              "</style>\n",
              "<table border=\"1\" class=\"dataframe\">\n",
              "  <thead>\n",
              "    <tr style=\"text-align: right;\">\n",
              "      <th></th>\n",
              "      <th>病人ID</th>\n",
              "      <th>病人姓名</th>\n",
              "      <th>科別</th>\n",
              "      <th>金額</th>\n",
              "    </tr>\n",
              "    <tr>\n",
              "      <th>日期</th>\n",
              "      <th></th>\n",
              "      <th></th>\n",
              "      <th></th>\n",
              "      <th></th>\n",
              "    </tr>\n",
              "  </thead>\n",
              "  <tbody>\n",
              "    <tr>\n",
              "      <th>2018-11-01 00:02:21</th>\n",
              "      <td>110034</td>\n",
              "      <td>若松 花子</td>\n",
              "      <td>B</td>\n",
              "      <td>19000</td>\n",
              "    </tr>\n",
              "    <tr>\n",
              "      <th>2018-11-01 00:03:10</th>\n",
              "      <td>112804</td>\n",
              "      <td>津田 美加子</td>\n",
              "      <td>D</td>\n",
              "      <td>20000</td>\n",
              "    </tr>\n",
              "    <tr>\n",
              "      <th>2018-11-01 00:06:19</th>\n",
              "      <td>110275</td>\n",
              "      <td>吉本 美加子</td>\n",
              "      <td>D</td>\n",
              "      <td>20000</td>\n",
              "    </tr>\n",
              "    <tr>\n",
              "      <th>2018-11-01 00:08:41</th>\n",
              "      <td>110169</td>\n",
              "      <td>坂本 直人</td>\n",
              "      <td>B</td>\n",
              "      <td>19000</td>\n",
              "    </tr>\n",
              "    <tr>\n",
              "      <th>2018-11-01 00:12:22</th>\n",
              "      <td>111504</td>\n",
              "      <td>青山 零</td>\n",
              "      <td>A</td>\n",
              "      <td>15000</td>\n",
              "    </tr>\n",
              "    <tr>\n",
              "      <th>...</th>\n",
              "      <td>...</td>\n",
              "      <td>...</td>\n",
              "      <td>...</td>\n",
              "      <td>...</td>\n",
              "    </tr>\n",
              "    <tr>\n",
              "      <th>2020-10-31 23:38:51</th>\n",
              "      <td>110049</td>\n",
              "      <td>吉本 篤司</td>\n",
              "      <td>A</td>\n",
              "      <td>3000</td>\n",
              "    </tr>\n",
              "    <tr>\n",
              "      <th>2020-10-31 23:42:12</th>\n",
              "      <td>110127</td>\n",
              "      <td>喜嶋 浩</td>\n",
              "      <td>A</td>\n",
              "      <td>3000</td>\n",
              "    </tr>\n",
              "    <tr>\n",
              "      <th>2020-10-31 23:47:24</th>\n",
              "      <td>115464</td>\n",
              "      <td>藤本 明美</td>\n",
              "      <td>D</td>\n",
              "      <td>8000</td>\n",
              "    </tr>\n",
              "    <tr>\n",
              "      <th>2020-10-31 23:53:22</th>\n",
              "      <td>114657</td>\n",
              "      <td>鈴木 七夏</td>\n",
              "      <td>A</td>\n",
              "      <td>3000</td>\n",
              "    </tr>\n",
              "    <tr>\n",
              "      <th>2020-10-31 23:57:21</th>\n",
              "      <td>111407</td>\n",
              "      <td>鈴木 治</td>\n",
              "      <td>A</td>\n",
              "      <td>3000</td>\n",
              "    </tr>\n",
              "  </tbody>\n",
              "</table>\n",
              "<p>71722 rows × 4 columns</p>\n",
              "</div>"
            ],
            "text/plain": [
              "                       病人ID    病人姓名 科別     金額\n",
              "日期                                           \n",
              "2018-11-01 00:02:21  110034   若松 花子  B  19000\n",
              "2018-11-01 00:03:10  112804  津田 美加子  D  20000\n",
              "2018-11-01 00:06:19  110275  吉本 美加子  D  20000\n",
              "2018-11-01 00:08:41  110169   坂本 直人  B  19000\n",
              "2018-11-01 00:12:22  111504    青山 零  A  15000\n",
              "...                     ...     ... ..    ...\n",
              "2020-10-31 23:38:51  110049   吉本 篤司  A   3000\n",
              "2020-10-31 23:42:12  110127    喜嶋 浩  A   3000\n",
              "2020-10-31 23:47:24  115464   藤本 明美  D   8000\n",
              "2020-10-31 23:53:22  114657   鈴木 七夏  A   3000\n",
              "2020-10-31 23:57:21  111407    鈴木 治  A   3000\n",
              "\n",
              "[71722 rows x 4 columns]"
            ]
          },
          "execution_count": 1,
          "metadata": {},
          "output_type": "execute_result"
        }
      ],
      "source": [
        "import pandas as pd\n",
        "df = pd.read_csv(\"accomodation_info.csv\", index_col=0, parse_dates=[0])\n",
        "df"
      ]
    }
  ],
  "metadata": {
    "colab": {
      "provenance": []
    },
    "kernelspec": {
      "display_name": "tf-gpu",
      "language": "python",
      "name": "python3"
    },
    "language_info": {
      "codemirror_mode": {
        "name": "ipython",
        "version": 3
      },
      "file_extension": ".py",
      "mimetype": "text/x-python",
      "name": "python",
      "nbconvert_exporter": "python",
      "pygments_lexer": "ipython3",
      "version": "3.12.7"
    }
  },
  "nbformat": 4,
  "nbformat_minor": 0
}
