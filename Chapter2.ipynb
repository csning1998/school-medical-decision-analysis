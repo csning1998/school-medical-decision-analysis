{
  "cells": [
    {
      "cell_type": "markdown",
      "metadata": {
        "id": "G05khoYXUHXS"
      },
      "source": [
        "# Chapter 2. 試著利用機器學習進行分析\n",
        "這章要學習執行程式的流程，以便學習機器的基礎。"
      ]
    },
    {
      "cell_type": "code",
      "execution_count": null,
      "metadata": {
        "id": "KjfC8pieUOwc"
      },
      "outputs": [],
      "source": [
        "#Colaboratory環境的設定\n",
        "from google.colab import drive\n",
        "drive.mount('/content/drive')\n",
        "#切換目錄至範例程式碼的路徑下，你應將其改成你自己的路徑\n",
        "%cd /content/drive/MyDrive/Colab Notebooks/醫療決策分析/圖解機器學習與資料科學的數學基礎/Chapter2"
      ]
    },
    {
      "cell_type": "markdown",
      "metadata": {
        "id": "x3CobWhIUHXY"
      },
      "source": [
        "## 2-1 計算病人行為模式的相似度"
      ]
    },
    {
      "cell_type": "markdown",
      "metadata": {
        "id": "acfi69TYUHXY"
      },
      "source": [
        "### 載入資料"
      ]
    },
    {
      "cell_type": "code",
      "execution_count": null,
      "metadata": {
        "id": "-U-LjBpnUHXZ"
      },
      "outputs": [],
      "source": [
        "import pandas as pd\n",
        "df_info = pd.read_csv(\"accomodation_info.csv\", index_col=0, parse_dates=[0])\n",
        "df_info"
      ]
    },
    {
      "cell_type": "markdown",
      "metadata": {
        "id": "YoNr2MDhUHXa"
      },
      "source": [
        "### 可視化/視覺化特徵向量（特徵向量為具有時序的使用次數資料）"
      ]
    },
    {
      "cell_type": "code",
      "execution_count": null,
      "metadata": {
        "id": "5Yexsj1WUHXa"
      },
      "outputs": [],
      "source": [
        "import pandas as pd\n",
        "import matplotlib.pyplot as plt\n",
        "# 篩選出index\n",
        "x_0 = df_info.resample('ME').count()\n",
        "x_0 = x_0.drop(x_0.columns.values,axis=1)\n",
        "# 設定順位\n",
        "i_rank = 14\n",
        "j_rank = 13\n",
        "# 篩選出病人ID\n",
        "i_id = df_info['病人ID'].value_counts().index[i_rank]\n",
        "j_id = df_info['病人ID'].value_counts().index[j_rank]\n",
        "# 將每月使用次數設定為特徵值\n",
        "x_i = df_info[df_info['病人ID']==i_id].resample('ME').count()\n",
        "x_j = df_info[df_info['病人ID']==j_id].resample('ME').count()\n",
        "# 出現缺失值的處理方式\n",
        "x_i = pd.concat([x_0, x_i], axis=1).fillna(0)\n",
        "x_j = pd.concat([x_0, x_j], axis=1).fillna(0)\n",
        "# 繪製圖表\n",
        "plt.plot(x_i)\n",
        "plt.plot(x_j)\n",
        "plt.xticks(rotation=60)\n",
        "plt.show()"
      ]
    },
    {
      "cell_type": "markdown",
      "metadata": {
        "id": "6oogRDBTUHXb"
      },
      "source": [
        "### 計算相似度"
      ]
    },
    {
      "cell_type": "code",
      "execution_count": null,
      "metadata": {
        "id": "Lm6EQj2jUHXb"
      },
      "outputs": [],
      "source": [
        "import pandas as pd\n",
        "import numpy as np\n",
        "# 計算特徵向量的差距\n",
        "dx = x_i.iloc[:,0].values-x_j.iloc[:,0].values\n",
        "# 計算向量範數（距離）\n",
        "n = np.linalg.norm(dx)\n",
        "# 利用維度標準化\n",
        "num_dim = len(x_i)\n",
        "d = n/num_dim\n",
        "print(\"相似度:\",d)"
      ]
    },
    {
      "cell_type": "markdown",
      "metadata": {
        "id": "SQqH8DXjUHXb"
      },
      "source": [
        "## 2-3 透過主成分分析確認主要病患的相似程度"
      ]
    },
    {
      "cell_type": "markdown",
      "metadata": {
        "id": "Dst70CqgUHXc"
      },
      "source": [
        "### 篩選出特徵向量"
      ]
    },
    {
      "cell_type": "code",
      "execution_count": null,
      "metadata": {
        "id": "MkXiSKB0UHXc"
      },
      "outputs": [],
      "source": [
        "import pandas as pd\n",
        "# 調整index\n",
        "x_0 = df_info.resample('ME').count()\n",
        "x_0 = x_0.drop(x_0.columns.values,axis=1)\n",
        "# 建立陣列\n",
        "list_vector = []\n",
        "# 設定人數\n",
        "num = 100\n",
        "for i_rank in range(num):\n",
        "  # 篩選出病人ID\n",
        "  i_id = df_info['病人ID'].value_counts().index[i_rank]\n",
        "  # 將每月使用次數設定為特徵值\n",
        "  x_i = df_info[df_info['病人ID']==i_id].resample('ME').count()\n",
        "  # 出現缺失值的處理方式\n",
        "  x_i = pd.concat([x_0, x_i], axis=1).fillna(0)\n",
        "  # 新增為特徵向量\n",
        "  list_vector.append(x_i.iloc[:,0].values.tolist())"
      ]
    },
    {
      "cell_type": "markdown",
      "metadata": {
        "id": "5u3BImAxUHXc"
      },
      "source": [
        "### 利用主成分分析(PCA)進行可視化/視覺化處理"
      ]
    },
    {
      "cell_type": "code",
      "execution_count": null,
      "metadata": {
        "id": "MPUTuGdfUHXc"
      },
      "outputs": [],
      "source": [
        "from sklearn.decomposition import PCA\n",
        "import numpy as np\n",
        "import matplotlib.pyplot as plt\n",
        "# 轉換特徵向量\n",
        "features = np.array(list_vector)\n",
        "# 執行主成分分析\n",
        "pca = PCA()\n",
        "pca.fit(features)\n",
        "# 將特徵向量轉換成主成分\n",
        "transformed = pca.fit_transform(features)\n",
        "# 調整圖像大小\n",
        "plt.figure(figsize=(9, 6))\n",
        "x_offset = 0.15  # x方向位移量(文字進行位移調整)\n",
        "y_offset = 0.15  # y方向位移量\n",
        "# 可視化/視覺化\n",
        "for i in range(len(transformed)):\n",
        "  plt.scatter(transformed[i,0],transformed[i,1],color=\"k\")\n",
        "  plt.text(transformed[i, 0] + x_offset, transformed[i, 1] + y_offset, str(i), fontsize=9)\n",
        "plt.show()"
      ]
    },
    {
      "cell_type": "markdown",
      "metadata": {
        "id": "GKypESOIUHXd"
      },
      "source": [
        "## 2-4. 根據時間軸確認主要病患的行為模式"
      ]
    },
    {
      "cell_type": "code",
      "execution_count": null,
      "metadata": {
        "id": "ECSos2_RUHXd"
      },
      "outputs": [],
      "source": [
        "import pandas as pd\n",
        "# 篩選出index\n",
        "x_0 = df_info.resample('ME').count()\n",
        "x_0 = x_0.drop(x_0.columns.values,axis=1)\n",
        "\n",
        "# 設定順位\n",
        "list_rank = [0,1,2] #選擇要觀察的三個病患排名序\n",
        "x = []\n",
        "for i_rank in list_rank:\n",
        "    # 篩選出病人ID\n",
        "    i_id = df_info['病人ID'].value_counts().index[i_rank]\n",
        "    # 將每月使用次數設定為特徵值\n",
        "    x_i = df_info[df_info['病人ID']==i_id].resample('ME').count()\n",
        "    # 出現缺失值的處理方式\n",
        "    x_i = pd.concat([x_0, x_i], axis=1).fillna(0)\n",
        "    # 繪製圖表\n",
        "    plt.plot(x_i)\n",
        "    plt.xticks(rotation=60)\n",
        "plt.show()"
      ]
    },
    {
      "cell_type": "markdown",
      "metadata": {
        "id": "DWVPIRFoUHXd"
      },
      "source": [
        "## 2-5. 透過集群分析可視化/視覺化主要病患的行為模式有何差異"
      ]
    },
    {
      "cell_type": "markdown",
      "metadata": {
        "id": "GsbOiUq9UHXd"
      },
      "source": [
        "### 利用k-means法進行集群分析"
      ]
    },
    {
      "cell_type": "code",
      "execution_count": null,
      "metadata": {
        "id": "7wsexxcYUHXe"
      },
      "outputs": [],
      "source": [
        "from sklearn.cluster import KMeans\n",
        "# 設定集群數\n",
        "num_of_cluster = 4\n",
        "# 指派集群\n",
        "model = KMeans(n_clusters=num_of_cluster, random_state=0)\n",
        "model.fit(features)\n",
        "pred_class = model.labels_\n",
        "print(pred_class)"
      ]
    },
    {
      "cell_type": "markdown",
      "metadata": {
        "id": "Ou_N9uB1UHXe"
      },
      "source": [
        "### 結合集群分析結果與主成分分析（PCA）之可視化"
      ]
    },
    {
      "cell_type": "code",
      "execution_count": null,
      "metadata": {
        "id": "Vri7zIMZUHXe"
      },
      "outputs": [],
      "source": [
        "from sklearn.decomposition import PCA\n",
        "import numpy as np\n",
        "import matplotlib.pyplot as plt\n",
        "\n",
        "# 執行主成分分析\n",
        "pca = PCA()\n",
        "pca.fit(features)\n",
        "# 將特徵向量轉換成主成分\n",
        "transformed = pca.fit_transform(features)\n",
        "# 可視化/視覺化\n",
        "plt.figure(figsize=(12, 8))\n",
        "plt.scatter(transformed[:,0],transformed[:,1],c=pred_class)\n",
        "for i in range(len(transformed)):\n",
        "    text = str(i) + \"(\" + str(pred_class[i]) + \")\"\n",
        "    plt.text(transformed[i,0],transformed[i,1],text)\n",
        "plt.show()"
      ]
    },
    {
      "cell_type": "markdown",
      "metadata": {
        "id": "HCIipONxUHXf"
      },
      "source": [
        "## 2-6. 利用決策樹推測行為模式的原因"
      ]
    },
    {
      "cell_type": "markdown",
      "metadata": {
        "id": "mipZlPgWUHXf"
      },
      "source": [
        "### 設定目標變數"
      ]
    },
    {
      "cell_type": "code",
      "execution_count": null,
      "metadata": {
        "id": "7lhJ2Ni1UHXf"
      },
      "outputs": [],
      "source": [
        "import numpy as np\n",
        "\n",
        "# 假設 pred_class 和 features 已經定義好\n",
        "# pred_class 是前面用Kmeans演算法對驗證資料的預測結果()\n",
        "# features 是特徵變數的 DataFrame\n",
        "# df_info 是包含時間索引的 DataFrame\n",
        "\n",
        "# 設定要分析的類別（例如，類別0，代表「疫情爆發前未曾就診或就診次數少，但疫情後就診次數大幅上升的病患」）\n",
        "target_class = 0\n",
        "\n",
        "# 建立目標變數\n",
        "num = len(pred_class)\n",
        "data_o = np.zeros(num)\n",
        "for i in range(num):\n",
        "    if pred_class[i]==target_class:\n",
        "        data_o[i] = True\n",
        "    else:\n",
        "        data_o[i] = False\n",
        "\n",
        "# 如果 data_o 包含浮點數，嘗試將其轉換為整數\n",
        "if data_o.dtype == np.float64:\n",
        "    data_o = data_o.astype(int)  # 將數據類型轉換為整數\n",
        "\n",
        "print(data_o)"
      ]
    },
    {
      "cell_type": "markdown",
      "metadata": {
        "id": "yjWWlM__UHXf"
      },
      "source": [
        "### 設定說明變數或稱特徵變數"
      ]
    },
    {
      "cell_type": "code",
      "execution_count": null,
      "metadata": {
        "id": "W9i9QGnXUHXf"
      },
      "outputs": [],
      "source": [
        "# 建立特徵變數\n",
        "data_e = features.copy()\n",
        "print(data_e)"
      ]
    },
    {
      "cell_type": "markdown",
      "metadata": {
        "id": "m1IxJJv4UHXg"
      },
      "source": [
        "### 建立決策樹模型"
      ]
    },
    {
      "cell_type": "code",
      "execution_count": null,
      "metadata": {
        "id": "OfPM5ZdTUHXg"
      },
      "outputs": [],
      "source": [
        "from sklearn.tree import DecisionTreeClassifier\n",
        "# 建立決策樹模型\n",
        "clf = DecisionTreeClassifier(max_depth=2) # max_depth參數決定決策樹的高度/深度\n",
        "clf = clf.fit(data_e, data_o)"
      ]
    },
    {
      "cell_type": "markdown",
      "metadata": {
        "id": "Wr8lRqxRUHXg"
      },
      "source": [
        "### 輸出視覺化決策樹的結果"
      ]
    },
    {
      "cell_type": "code",
      "execution_count": null,
      "metadata": {
        "id": "DYJDypxmBEVy"
      },
      "outputs": [],
      "source": [
        "# 安裝可視覺化決策樹的函式庫等\n",
        "!pip install dtreeviz"
      ]
    },
    {
      "cell_type": "code",
      "execution_count": null,
      "metadata": {
        "id": "quZ4tD82IGk8"
      },
      "outputs": [],
      "source": [
        "import logging\n",
        "logging.getLogger('matplotlib.font_manager').setLevel(logging.ERROR)  #關閉顯示字體錯誤的訊息"
      ]
    },
    {
      "cell_type": "code",
      "execution_count": null,
      "metadata": {
        "id": "ymzQioHHBUxJ"
      },
      "outputs": [],
      "source": [
        "# 篩選出index\n",
        "x_0 = df_info.resample('ME').count()\n",
        "x_0 = x_0.drop(x_0.columns.values, axis=1)\n",
        "time_index = x_0.index\n",
        "print(time_index)"
      ]
    },
    {
      "cell_type": "code",
      "execution_count": null,
      "metadata": {
        "id": "hpBl-_WefJsh"
      },
      "outputs": [],
      "source": [
        "import dtreeviz\n",
        "\n",
        "# 假設 clf 是你的已訓練好的決策樹分類器，並且 data_e 和 data_o 是你的數據\n",
        "# 將 time_index 轉換成字串列表\n",
        "feature_names = [str(t) for t in time_index]\n",
        "\n",
        "viz = dtreeviz.model(\n",
        "    clf,          # 決策樹模型\n",
        "    data_e,       # 特徵數據\n",
        "    data_o,       # 標籤數據\n",
        "    target_name='Class',           # 目標名稱\n",
        "    feature_names=feature_names,  # 使用轉換後的特徵名稱\n",
        "    class_names=['False', 'True'], # 類別名稱\n",
        ")\n",
        "\n",
        "viz.view()  # 顯示視覺化"
      ]
    },
    {
      "cell_type": "markdown",
      "metadata": {
        "id": "aT8NJe62UHXg"
      },
      "source": [
        "## 2-7. 可視化/視覺化決策樹的分類結果，評估分類的精確度"
      ]
    },
    {
      "cell_type": "code",
      "execution_count": null,
      "metadata": {
        "id": "G6ACQDGENxeH"
      },
      "outputs": [],
      "source": [
        "# Colab 進行matplotlib繪圖時顯示繁體中文\n",
        "# 下載台北思源黑體並命名taipei_sans_tc_beta.ttf，移至指定路徑\n",
        "!wget -O TaipeiSansTCBeta-Regular.ttf https://drive.google.com/uc?id=1eGAsTN1HBpJAkeVM57_C7ccp7hbgSz3_&export=download\n",
        "\n",
        "import matplotlib\n",
        "matplotlib.font_manager.fontManager.addfont('TaipeiSansTCBeta-Regular.ttf')\n",
        "matplotlib.rc('font', family='Taipei Sans TC Beta')"
      ]
    },
    {
      "cell_type": "markdown",
      "metadata": {
        "id": "2MbPXp8eUHXh"
      },
      "source": [
        "### 決策樹與Kmeans分類結果視覺化"
      ]
    },
    {
      "cell_type": "code",
      "execution_count": null,
      "metadata": {
        "id": "rn2t6oLUUHXh"
      },
      "outputs": [],
      "source": [
        "from sklearn.decomposition import PCA\n",
        "import numpy as np\n",
        "import matplotlib.pyplot as plt\n",
        "import matplotlib.patches as pat\n",
        "\n",
        "# 進行分類\n",
        "pred_tree = clf.predict(data_e)\n",
        "\n",
        "# 執行主成分分析\n",
        "pca = PCA()\n",
        "pca.fit(features)\n",
        "# 將特徵向量轉換成主成分\n",
        "transformed = pca.fit_transform(features)\n",
        "# 可視化/視覺化\n",
        "plt.figure(figsize=(12, 8))\n",
        "plt.scatter(transformed[:,0],transformed[:,1],c=pred_class)\n",
        "for i in range(len(transformed)):\n",
        "    if pred_tree[i]==True:\n",
        "        if pred_class[i]==target_class:  #決策樹分類與Kmeans分類一致\n",
        "            temp_color = \"b\"\n",
        "            temp_lw = 1.0\n",
        "        else:               #決策樹分類為target_class(前面設定為0) 而Kmeans分類並不同一類\n",
        "            temp_color = \"y\"\n",
        "            temp_lw = 2.5\n",
        "        circle = pat.Circle(xy=(transformed[i,0],transformed[i,1]), radius=0.7, ec=temp_color, fill=False, linewidth = temp_lw)\n",
        "        #plt.axes().add_artist(circle)\n",
        "        ax = plt.gca()\n",
        "        ax.add_patch(circle)\n",
        "    else:\n",
        "        if pred_class[i]==target_class:  #決策樹分類不為target_class(前面設定為0) 而Kmeans分類為target_class\n",
        "            temp_color = \"r\"\n",
        "            temp_lw = 2.5\n",
        "            circle = pat.Circle(xy=(transformed[i,0],transformed[i,1]), radius=0.7, ec=temp_color, fill=False, linewidth = temp_lw)\n",
        "            #plt.axes().add_artist(circle)\n",
        "            ax = plt.gca()\n",
        "            ax.add_patch(circle)\n",
        "    text = str(i) + \"(\" + str(pred_class[i]) + \")\"\n",
        "    plt.text(transformed[i,0]+0.1,transformed[i,1]+0.1,text, fontsize=8)\n",
        "    #ax.text(transformed[i, 0] + 0.1, transformed[i, 1] + 0.1, f\"{i} ({pred_class[i]})\")\n",
        "\n",
        "# 设置标题和轴标签\n",
        "ax.set_title('決策樹與Kmeans分類結果視覺化')\n",
        "ax.set_xlabel('主成分1')\n",
        "ax.set_ylabel('主成分2')\n",
        "plt.show()\n"
      ]
    },
    {
      "cell_type": "markdown",
      "metadata": {
        "id": "Ci_H0qpnUHXh"
      },
      "source": [
        "### 輸出混淆矩陣"
      ]
    },
    {
      "cell_type": "code",
      "execution_count": null,
      "metadata": {
        "id": "ww7eRAJzUHXh"
      },
      "outputs": [],
      "source": [
        "from sklearn.metrics import confusion_matrix\n",
        "cm = confusion_matrix(data_o, pred_tree, labels=[1,0])\n",
        "print(cm)"
      ]
    },
    {
      "cell_type": "code",
      "execution_count": null,
      "metadata": {
        "id": "mZUrPHGXdRy_"
      },
      "outputs": [],
      "source": [
        "from sklearn.metrics import ConfusionMatrixDisplay\n",
        "disp = ConfusionMatrixDisplay(confusion_matrix=cm, display_labels=[\"Positive\",\"Negative\"])\n",
        "disp.plot()\n",
        "plt.show()"
      ]
    },
    {
      "cell_type": "markdown",
      "metadata": {
        "id": "ulvWk1LNUHXh"
      },
      "source": [
        "## 2-8. 了解評估預測精確度的流程"
      ]
    },
    {
      "cell_type": "markdown",
      "metadata": {
        "id": "5VjCVeZGUHXi"
      },
      "source": [
        "### 將資料集分割成訓練資料與測試資料"
      ]
    },
    {
      "cell_type": "code",
      "execution_count": null,
      "metadata": {
        "id": "lSekvmIYUHXi"
      },
      "outputs": [],
      "source": [
        "from sklearn.model_selection import train_test_split\n",
        "#x_train, x_test, y_train, y_test = train_test_split(features, data_o)\n",
        "x_train, x_test, y_train, y_test = train_test_split(features, data_o, train_size = 0.75, random_state = 42)"
      ]
    },
    {
      "cell_type": "markdown",
      "metadata": {
        "id": "m9h08BWfUHXi"
      },
      "source": [
        "### 利用訓練資料建構模型"
      ]
    },
    {
      "cell_type": "code",
      "execution_count": null,
      "metadata": {
        "id": "SANvEdfhUHXi"
      },
      "outputs": [],
      "source": [
        "from sklearn.tree import DecisionTreeClassifier\n",
        "clf = DecisionTreeClassifier(max_depth=2)\n",
        "clf = clf.fit(x_train, y_train)"
      ]
    },
    {
      "cell_type": "markdown",
      "metadata": {
        "id": "hqbv_0SrUHXi"
      },
      "source": [
        "### 利用測試資料進行評估"
      ]
    },
    {
      "cell_type": "code",
      "execution_count": null,
      "metadata": {
        "id": "irFkvi6UUHXi"
      },
      "outputs": [],
      "source": [
        "from sklearn.metrics import confusion_matrix\n",
        "\n",
        "# 計算分數\n",
        "score = clf.score(x_test, y_test)\n",
        "print(\"分數:\",score)\n",
        "\n",
        "# 產生混淆矩陣\n",
        "pred_tree = clf.predict(x_test)\n",
        "cm = confusion_matrix(y_test, pred_tree, labels=[1,0])\n",
        "print(\"混淆矩陣\")\n",
        "print(cm)"
      ]
    },
    {
      "cell_type": "markdown",
      "metadata": {
        "id": "yLlGC4FiUHXj"
      },
      "source": [
        "## 2-9. 比較各種分類演算法"
      ]
    },
    {
      "cell_type": "markdown",
      "metadata": {
        "id": "lQCBRgSAUHXj"
      },
      "source": [
        "### 與隨機森林演算法比較"
      ]
    },
    {
      "cell_type": "code",
      "execution_count": null,
      "metadata": {
        "id": "0_KQuTvfUHXj"
      },
      "outputs": [],
      "source": [
        "from sklearn.model_selection import train_test_split\n",
        "from sklearn.ensemble import RandomForestClassifier\n",
        "from sklearn.metrics import confusion_matrix\n",
        "\n",
        "# 將資料集分割成訓練資料與評估資料\n",
        "x_train, x_test, y_train, y_test = train_test_split(features, data_o, train_size = 0.75, random_state = 42)\n",
        "\n",
        "# 利用訓練資料建立模型\n",
        "model = RandomForestClassifier(bootstrap=True, n_estimators=20, max_depth=None, random_state = 42)\n",
        "clf = model.fit(x_train, y_train)\n",
        "\n",
        "# 利用評估資料進行評估\n",
        "# 計算分數\n",
        "score = clf.score(x_test, y_test)\n",
        "print(\"分數:\",score)\n",
        "\n",
        "# 產生混淆矩陣\n",
        "pred_RF = clf.predict(x_test)\n",
        "cm = confusion_matrix(y_test, pred_RF)\n",
        "print(\"混淆矩陣\")\n",
        "print(cm)"
      ]
    },
    {
      "cell_type": "markdown",
      "metadata": {
        "id": "VhZ5GDHjUHXj"
      },
      "source": [
        "### 與SVM比較"
      ]
    },
    {
      "cell_type": "code",
      "execution_count": null,
      "metadata": {
        "id": "5cDSCGEyUHXj"
      },
      "outputs": [],
      "source": [
        "from sklearn.model_selection import train_test_split\n",
        "from sklearn.svm import SVC\n",
        "from sklearn.metrics import confusion_matrix\n",
        "\n",
        "# 將資料集分割成訓練資料與評估資料\n",
        "x_train, x_test, y_train, y_test = train_test_split(features, data_o, train_size = 0.75, random_state = 42)\n",
        "\n",
        "# 利用訓練資料建立模型\n",
        "model = SVC(kernel='rbf')\n",
        "clf = model.fit(x_train, y_train)\n",
        "\n",
        "# 利用評估資料進行評估\n",
        "# 計算分數\n",
        "score = clf.score(x_test, y_test)\n",
        "print(\"分數:\",score)\n",
        "\n",
        "# 產生混淆矩陣\n",
        "pred_SVM = clf.predict(x_test)\n",
        "cm = confusion_matrix(y_test, pred_SVM)\n",
        "print(\"混淆矩陣\")\n",
        "print(cm)"
      ]
    },
    {
      "cell_type": "code",
      "execution_count": null,
      "metadata": {
        "id": "gkYMqaCxe3PC"
      },
      "outputs": [],
      "source": [
        "import pandas as pd\n",
        "from sklearn.metrics import accuracy_score, precision_score, recall_score, f1_score\n",
        "import matplotlib.pyplot as plt\n",
        "import seaborn as sns\n",
        "\n",
        "# 定義模型名稱和模型對象的列表\n",
        "models = [\n",
        "    ('SVM', pred_SVM),\n",
        "    ('Random Forest', pred_RF),\n",
        "    ('Decision Tree', pred_tree),\n",
        "]\n",
        "\n",
        "# 初始化一個空的列表來存儲每個模型的評估指標\n",
        "metrics_list = []\n",
        "\n",
        "# 迭代每個模型，計算評估指標\n",
        "for name, pred in models:\n",
        "    # 計算評估指標\n",
        "    accuracy = accuracy_score(y_test, pred)\n",
        "    precision = precision_score(y_test, pred)\n",
        "    recall = recall_score(y_test, pred)\n",
        "    f1 = f1_score(y_test, pred)\n",
        "\n",
        "    # 將結果添加到列表中\n",
        "    metrics_list.append({\n",
        "        'Model': name,\n",
        "        'Accuracy': accuracy,\n",
        "        'Precision': precision,\n",
        "        'Recall': recall,\n",
        "        'F1 Score': f1\n",
        "    })\n",
        "\n",
        "# 將結果轉換為 DataFrame\n",
        "metrics_df = pd.DataFrame(metrics_list)\n",
        "\n",
        "# 設置 'Model' 為索引（可選）\n",
        "metrics_df.set_index('Model', inplace=True)\n",
        "\n",
        "# 顯示評估指標表格\n",
        "print(metrics_df)\n",
        "\n",
        "# 在Colab上用的是Jupyter Notebook，所以可用以下方式更美觀地顯示表格：\n",
        "display(metrics_df)\n"
      ]
    },
    {
      "cell_type": "markdown",
      "metadata": {
        "id": "Isl-jFswUHXk"
      },
      "source": [
        "## 2-10. 試著利用支援向量機迴歸法預測具有時序的資料"
      ]
    },
    {
      "cell_type": "code",
      "execution_count": null,
      "metadata": {
        "id": "FKVQvFXBUHXk"
      },
      "outputs": [],
      "source": [
        "from sklearn import svm\n",
        "from sklearn.model_selection import train_test_split\n",
        "\n",
        "# 建立資料\n",
        "data_target = data_e[data_o==1]\n",
        "data_y = data_target\n",
        "data_x = np.stack([np.arange(0,len(data_target[0])) for _ in range(len(data_target))], axis=0)\n",
        "data_y = np.ravel(data_y)\n",
        "data_x = np.ravel(data_x)\n",
        "\n",
        "# 將資料集分割成訓練資料與評估資料\n",
        "x_train, x_test, y_train, y_test = train_test_split(data_x,data_y)\n",
        "\n",
        "# 利用訓練資料建立模型（支援向量機迴歸）\n",
        "model = svm.SVR(kernel='rbf', C=1) # kernel: 'poly', 'rbf', 'linear'\n",
        "reg = model.fit(x_train.reshape(-1, 1), y_train.ravel())\n",
        "\n",
        "# 繪製預測曲線\n",
        "x_pred = np.arange(len(data_target[0])).reshape(-1, 1)\n",
        "y_pred = model.predict(x_pred)\n",
        "plt.plot(data_x,data_y,\"k.\")\n",
        "plt.plot(x_pred,y_pred,\"r.-\")\n",
        "plt.show()\n",
        "\n",
        "# 決定係數R^2\n",
        "reg.score(x_test.reshape(-1, 1), y_test.ravel())"
      ]
    },
    {
      "cell_type": "code",
      "execution_count": null,
      "metadata": {
        "id": "UOODMjLR5yAV"
      },
      "outputs": [],
      "source": []
    }
  ],
  "metadata": {
    "colab": {
      "provenance": []
    },
    "kernelspec": {
      "display_name": "Python 3",
      "language": "python",
      "name": "python3"
    },
    "language_info": {
      "codemirror_mode": {
        "name": "ipython",
        "version": 3
      },
      "file_extension": ".py",
      "mimetype": "text/x-python",
      "name": "python",
      "nbconvert_exporter": "python",
      "pygments_lexer": "ipython3",
      "version": "3.8.8"
    }
  },
  "nbformat": 4,
  "nbformat_minor": 0
}
